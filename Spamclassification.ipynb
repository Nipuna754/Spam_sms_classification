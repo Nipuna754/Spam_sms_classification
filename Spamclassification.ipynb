{
  "nbformat": 4,
  "nbformat_minor": 0,
  "metadata": {
    "colab": {
      "provenance": [],
      "mount_file_id": "1T4mmL_TzPlMaQyFSXfcPk6BvmxnjHt9G",
      "authorship_tag": "ABX9TyOI6ZXR1qiKrVxU/Pb7514b",
      "include_colab_link": true
    },
    "kernelspec": {
      "name": "python3",
      "display_name": "Python 3"
    },
    "language_info": {
      "name": "python"
    }
  },
  "cells": [
    {
      "cell_type": "markdown",
      "metadata": {
        "id": "view-in-github",
        "colab_type": "text"
      },
      "source": [
        "<a href=\"https://colab.research.google.com/github/Nipuna754/Spam_sms_classification/blob/main/Spamclassification.ipynb\" target=\"_parent\"><img src=\"https://colab.research.google.com/assets/colab-badge.svg\" alt=\"Open In Colab\"/></a>"
      ]
    },
    {
      "cell_type": "code",
      "execution_count": null,
      "metadata": {
        "id": "pRXsxtA2hUlD"
      },
      "outputs": [],
      "source": [
        "import pandas as pd\n",
        "import nltk"
      ]
    },
    {
      "cell_type": "markdown",
      "source": [
        "IMPORT MODULES\n"
      ],
      "metadata": {
        "id": "Tbci7pPaiftD"
      }
    },
    {
      "cell_type": "code",
      "source": [
        "import pandas as pd\n",
        "import nltk"
      ],
      "metadata": {
        "id": "9_WOqPiXicMO"
      },
      "execution_count": null,
      "outputs": []
    },
    {
      "cell_type": "markdown",
      "source": [
        "READ DATASET\n"
      ],
      "metadata": {
        "id": "mBkL_vUiixLT"
      }
    },
    {
      "cell_type": "code",
      "source": [
        "df = pd.read_csv('spam.csv', encoding ='latin-1')"
      ],
      "metadata": {
        "id": "tI1r8ovUi0IO"
      },
      "execution_count": null,
      "outputs": []
    },
    {
      "cell_type": "code",
      "source": [
        "df.head(5)"
      ],
      "metadata": {
        "id": "S05NzqV0jIHW"
      },
      "execution_count": null,
      "outputs": []
    },
    {
      "cell_type": "code",
      "source": [
        "df.shape"
      ],
      "metadata": {
        "id": "LMkYSIq_jQ5U"
      },
      "execution_count": null,
      "outputs": []
    },
    {
      "cell_type": "code",
      "source": [
        "df.columns\n",
        "df.shape\n",
        "df.head\n",
        "\n",
        "\n",
        "\n"
      ],
      "metadata": {
        "id": "JGSjTV43nfLx"
      },
      "execution_count": null,
      "outputs": []
    },
    {
      "cell_type": "code",
      "source": [
        "df.rename(columns={'v1':'Class','v2':'SMS'})"
      ],
      "metadata": {
        "id": "XbN1Dd7DtSXz"
      },
      "execution_count": null,
      "outputs": []
    },
    {
      "cell_type": "code",
      "source": [
        "df.columns\n"
      ],
      "metadata": {
        "id": "w_SzKr92uKBV"
      },
      "execution_count": null,
      "outputs": []
    },
    {
      "cell_type": "code",
      "source": [
        "df.rename(columns={'v1':'Class','v2':'SMS'},inplace=True)"
      ],
      "metadata": {
        "id": "KDjs915rvoo9"
      },
      "execution_count": null,
      "outputs": []
    },
    {
      "cell_type": "code",
      "source": [
        "df.head"
      ],
      "metadata": {
        "id": "OQwhaDhax5Oe"
      },
      "execution_count": null,
      "outputs": []
    },
    {
      "cell_type": "code",
      "source": [
        "df.sample(5)"
      ],
      "metadata": {
        "id": "N3pdXdWR0Pe-"
      },
      "execution_count": null,
      "outputs": []
    },
    {
      "cell_type": "code",
      "source": [
        "df.groupby(by='Class').describe()"
      ],
      "metadata": {
        "id": "7CV8lpWZ0bvo"
      },
      "execution_count": null,
      "outputs": []
    },
    {
      "cell_type": "code",
      "source": [
        "df= df.drop_duplicates(keep='first')\n",
        "df.groupby(by='Class').describe()"
      ],
      "metadata": {
        "id": "3wg2cbHcMbwA"
      },
      "execution_count": null,
      "outputs": []
    },
    {
      "cell_type": "code",
      "source": [
        "df['Lenght'] = df['SMS'].apply(len)\n"
      ],
      "metadata": {
        "id": "X2EsAY37NwJC"
      },
      "execution_count": null,
      "outputs": []
    },
    {
      "cell_type": "code",
      "source": [
        "df.head(2)\n",
        "df.columns"
      ],
      "metadata": {
        "id": "ypQFdjh4OV7T"
      },
      "execution_count": null,
      "outputs": []
    },
    {
      "cell_type": "code",
      "source": [
        "df.hist(column='Lenght',by='Class',bins=50)"
      ],
      "metadata": {
        "id": "5P3UKO6LOulA"
      },
      "execution_count": null,
      "outputs": []
    },
    {
      "cell_type": "code",
      "source": [
        "from nltk.translate.meteor_score import PorterStemmer\n",
        "\n",
        "nltk.download('stopwords')\n",
        "from nltk.corpus import stopwords\n",
        "\n",
        "nltk.download('punkt')\n",
        "ps = PorterStemmer()\n"
      ],
      "metadata": {
        "id": "tDxL-6o9Qy4b"
      },
      "execution_count": null,
      "outputs": []
    },
    {
      "cell_type": "code",
      "source": [
        "df.head(5)\n"
      ],
      "metadata": {
        "id": "navu8BJHR9HM"
      },
      "execution_count": null,
      "outputs": []
    },
    {
      "cell_type": "markdown",
      "source": [
        "LOWERCASE\n",
        "\n",
        "TOKENIZATION\n",
        "\n",
        "REMOVING SPECIAL CHARACTERS\n",
        "\n",
        "EMOVING STOP WORDS AND PUNCTUATION\n",
        "\n",
        "STEMMING"
      ],
      "metadata": {
        "id": "gGtgifKmSE6X"
      }
    },
    {
      "cell_type": "code",
      "source": [
        "from nltk.corpus import stopwords\n",
        "from nltk.tokenize import word_tokenize\n",
        "from nltk.stem import PorterStemmer\n",
        "import string\n",
        "\n",
        "def clean_text(text):\n",
        "    text = text.lower()\n",
        "    text = word_tokenize(text)\n",
        "\n",
        "    y = []\n",
        "    for i in text:\n",
        "        if i.isalnum():\n",
        "            y.append(i)\n",
        "\n",
        "    text = y[:]\n",
        "    y.clear()\n",
        "\n",
        "    for i in text:\n",
        "        if i not in stopwords.words('english') and i not in string.punctuation:\n",
        "            y.append(i)\n",
        "\n",
        "    text = y[:]\n",
        "    y.clear()\n",
        "\n",
        "    ps = PorterStemmer()\n",
        "    for i in text:\n",
        "        y.append(ps.stem(i))\n",
        "\n",
        "    return \" \".join(y)\n",
        "\n",
        "\n"
      ],
      "metadata": {
        "id": "zX1xtokIW2Bx"
      },
      "execution_count": null,
      "outputs": []
    },
    {
      "cell_type": "code",
      "source": [
        "df['SMS_cleaned'] = df['SMS'].apply(clean_text)\n",
        "df.head(5)\n"
      ],
      "metadata": {
        "id": "zmsmE1woSF9g"
      },
      "execution_count": null,
      "outputs": []
    },
    {
      "cell_type": "markdown",
      "source": [
        "Feature Extraction(Converting text to numbers)"
      ],
      "metadata": {
        "id": "E5si9NrqXQkh"
      }
    },
    {
      "cell_type": "code",
      "source": [
        "from sklearn.feature_extraction.text import TfidfVectorizer\n",
        "\n",
        "tf_vec = TfidfVectorizer(max_features=3000)\n",
        "X = tf_vec.fit_transform(df['SMS_cleaned']).toarray()\n",
        "\n",
        "\n"
      ],
      "metadata": {
        "id": "J8x3CDJyXWc0"
      },
      "execution_count": null,
      "outputs": []
    },
    {
      "cell_type": "code",
      "source": [
        "X.shape\n"
      ],
      "metadata": {
        "id": "xpPzuxKqYtF4"
      },
      "execution_count": null,
      "outputs": []
    },
    {
      "cell_type": "code",
      "source": [
        "Y =df['Class'].values"
      ],
      "metadata": {
        "id": "CX8qB3zhY7nk"
      },
      "execution_count": null,
      "outputs": []
    },
    {
      "cell_type": "markdown",
      "source": [
        "TRAINING\n"
      ],
      "metadata": {
        "id": "JP-oB98bZHsX"
      }
    },
    {
      "cell_type": "code",
      "source": [],
      "metadata": {
        "id": "o9vaCA5bZJyL"
      },
      "execution_count": null,
      "outputs": []
    },
    {
      "cell_type": "code",
      "source": [
        "from tables.tests.test_suite import test\n",
        "from sklearn.model_selection import train_test_split\n",
        "\n",
        "X_train,X_test,Y_train,Y_test = train_test_split(X,Y, test_size=0.2,random_state=2)\n"
      ],
      "metadata": {
        "id": "FP5cSrFwZo3X"
      },
      "execution_count": null,
      "outputs": []
    },
    {
      "cell_type": "code",
      "source": [
        "from sklearn.naive_bayes import MultinomialNB\n",
        "\n",
        "model = MultinomialNB()\n",
        "model.fit(X_train,Y_train)\n",
        "\n"
      ],
      "metadata": {
        "id": "jO0IwwBdavmi"
      },
      "execution_count": null,
      "outputs": []
    },
    {
      "cell_type": "code",
      "source": [
        "from sklearn.metrics import accuracy_score\n",
        "\n",
        "y_predict = model.predict(X_test)\n",
        "print(accuracy_score(Y_test,y_predict))\n",
        "\n"
      ],
      "metadata": {
        "id": "PLnTAVEwcYLy"
      },
      "execution_count": null,
      "outputs": []
    }
  ]
}